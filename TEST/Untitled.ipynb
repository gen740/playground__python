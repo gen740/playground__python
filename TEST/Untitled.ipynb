{
 "cells": [
  {
   "cell_type": "code",
   "execution_count": 27,
   "id": "3c378a91",
   "metadata": {},
   "outputs": [],
   "source": [
    "import sympy as sym\n",
    "import numpy as np\n",
    "\n",
    "sym.init_printing()\n",
    "\n",
    "x = sym.symbols('x')\n",
    "y = sym.symbols('y')"
   ]
  },
  {
   "cell_type": "code",
   "execution_count": 37,
   "id": "24e384ca",
   "metadata": {},
   "outputs": [],
   "source": [
    "u11 = sym.cos(x) * sym.cos(y)\n",
    "u12 = sym.sin(x) * sym.cos(y)\n",
    "u13 = -2 + sym.sin(y)\n",
    "u = [0, 2*sym.pi]\n",
    "v = [0, sym.pi / 2]\n",
    "a = sym.Matrix([u11, u12, u13])"
   ]
  },
  {
   "cell_type": "code",
   "execution_count": 31,
   "id": "7c27d133",
   "metadata": {},
   "outputs": [],
   "source": [
    "u11 = sym.cos(x)\n",
    "u12 = sym.sin(x)\n",
    "u13 = y\n",
    "u = [0, 2*sym.pi]\n",
    "v = [-2, 2]\n",
    "a = sym.Matrix([u11, u12, u13])"
   ]
  },
  {
   "cell_type": "code",
   "execution_count": 34,
   "id": "09f682fd",
   "metadata": {},
   "outputs": [],
   "source": [
    "u11 = y * sym.cos(x)\n",
    "u12 = y * sym.sin(x)\n",
    "u13 = 2\n",
    "u = [0, 2*sym.pi]\n",
    "v = [0, 1]\n",
    "a = sym.Matrix([u11, u12, u13])"
   ]
  },
  {
   "cell_type": "code",
   "execution_count": 21,
   "id": "79ae9ff6",
   "metadata": {},
   "outputs": [],
   "source": [
    "A = sym.Matrix([\n",
    "    u13,\n",
    "    3*u11 + u13,\n",
    "    u12])"
   ]
  },
  {
   "cell_type": "code",
   "execution_count": 38,
   "id": "c9a1b799",
   "metadata": {},
   "outputs": [],
   "source": [
    "A = sym.Matrix([\n",
    "    u11,\n",
    "    u12,\n",
    "    u13\n",
    "    ])\n",
    "A = A / (4 * sym.pi * sym.sqrt(u11 ** 2 + u12 ** 2 + u13 ** 2)**3)"
   ]
  },
  {
   "cell_type": "code",
   "execution_count": 39,
   "id": "f7335e34",
   "metadata": {
    "scrolled": true
   },
   "outputs": [
    {
     "data": {
      "image/png": "[encoded data removed]",
      "text/latex": [
       "$\\displaystyle \\left[\\begin{matrix}\\cos{\\left(x \\right)} \\cos{\\left(y \\right)}\\\\\\sin{\\left(x \\right)} \\cos{\\left(y \\right)}\\\\\\sin{\\left(y \\right)} - 2\\end{matrix}\\right]$"
      ],
      "text/plain": [
       "⎡cos(x)⋅cos(y)⎤\n",
       "⎢             ⎥\n",
       "⎢sin(x)⋅cos(y)⎥\n",
       "⎢             ⎥\n",
       "⎣ sin(y) - 2  ⎦"
      ]
     },
     "metadata": {},
     "output_type": "display_data"
    },
    {
     "data": {
      "image/png": "[encoded data removed]",
      "text/latex": [
       "$\\displaystyle \\left[\\begin{matrix}\\frac{\\cos{\\left(x \\right)} \\cos{\\left(y \\right)}}{4 \\pi \\left(\\left(\\sin{\\left(y \\right)} - 2\\right)^{2} + \\sin^{2}{\\left(x \\right)} \\cos^{2}{\\left(y \\right)} + \\cos^{2}{\\left(x \\right)} \\cos^{2}{\\left(y \\right)}\\right)^{\\frac{3}{2}}}\\\\\\frac{\\sin{\\left(x \\right)} \\cos{\\left(y \\right)}}{4 \\pi \\left(\\left(\\sin{\\left(y \\right)} - 2\\right)^{2} + \\sin^{2}{\\left(x \\right)} \\cos^{2}{\\left(y \\right)} + \\cos^{2}{\\left(x \\right)} \\cos^{2}{\\left(y \\right)}\\right)^{\\frac{3}{2}}}\\\\\\frac{\\sin{\\left(y \\right)} - 2}{4 \\pi \\left(\\left(\\sin{\\left(y \\right)} - 2\\right)^{2} + \\sin^{2}{\\left(x \\right)} \\cos^{2}{\\left(y \\right)} + \\cos^{2}{\\left(x \\right)} \\cos^{2}{\\left(y \\right)}\\right)^{\\frac{3}{2}}}\\end{matrix}\\right]$"
      ],
      "text/plain": [
       "⎡                      cos(x)⋅cos(y)                       ⎤\n",
       "⎢──────────────────────────────────────────────────────────⎥\n",
       "⎢                                                       3/2⎥\n",
       "⎢    ⎛            2      2       2         2       2   ⎞   ⎥\n",
       "⎢4⋅π⋅⎝(sin(y) - 2)  + sin (x)⋅cos (y) + cos (x)⋅cos (y)⎠   ⎥\n",
       "⎢                                                          ⎥\n",
       "⎢                      sin(x)⋅cos(y)                       ⎥\n",
       "⎢──────────────────────────────────────────────────────────⎥\n",
       "⎢                                                       3/2⎥\n",
       "⎢    ⎛            2      2       2         2       2   ⎞   ⎥\n",
       "⎢4⋅π⋅⎝(sin(y) - 2)  + sin (x)⋅cos (y) + cos (x)⋅cos (y)⎠   ⎥\n",
       "⎢                                                          ⎥\n",
       "⎢                        sin(y) - 2                        ⎥\n",
       "⎢──────────────────────────────────────────────────────────⎥\n",
       "⎢                                                       3/2⎥\n",
       "⎢    ⎛            2      2       2         2       2   ⎞   ⎥\n",
       "⎣4⋅π⋅⎝(sin(y) - 2)  + sin (x)⋅cos (y) + cos (x)⋅cos (y)⎠   ⎦"
      ]
     },
     "metadata": {},
     "output_type": "display_data"
    },
    {
     "data": {
      "image/png": "[encoded data removed]",
      "text/latex": [
       "$\\displaystyle \\left[\\begin{matrix}- \\sin{\\left(x \\right)} \\cos{\\left(y \\right)}\\\\\\cos{\\left(x \\right)} \\cos{\\left(y \\right)}\\\\0\\end{matrix}\\right]$"
      ],
      "text/plain": [
       "⎡-sin(x)⋅cos(y)⎤\n",
       "⎢              ⎥\n",
       "⎢cos(x)⋅cos(y) ⎥\n",
       "⎢              ⎥\n",
       "⎣      0       ⎦"
      ]
     },
     "metadata": {},
     "output_type": "display_data"
    },
    {
     "data": {
      "image/png": "[encoded data removed]",
      "text/latex": [
       "$\\displaystyle \\left[\\begin{matrix}- \\sin{\\left(y \\right)} \\cos{\\left(x \\right)}\\\\- \\sin{\\left(x \\right)} \\sin{\\left(y \\right)}\\\\\\cos{\\left(y \\right)}\\end{matrix}\\right]$"
      ],
      "text/plain": [
       "⎡-sin(y)⋅cos(x)⎤\n",
       "⎢              ⎥\n",
       "⎢-sin(x)⋅sin(y)⎥\n",
       "⎢              ⎥\n",
       "⎣    cos(y)    ⎦"
      ]
     },
     "metadata": {},
     "output_type": "display_data"
    },
    {
     "data": {
      "image/png": "[encoded data removed]",
      "text/latex": [
       "$\\displaystyle \\left[\\begin{matrix}\\cos{\\left(x \\right)} \\cos^{2}{\\left(y \\right)}\\\\\\sin{\\left(x \\right)} \\cos^{2}{\\left(y \\right)}\\\\\\sin^{2}{\\left(x \\right)} \\sin{\\left(y \\right)} \\cos{\\left(y \\right)} + \\sin{\\left(y \\right)} \\cos^{2}{\\left(x \\right)} \\cos{\\left(y \\right)}\\end{matrix}\\right]$"
      ],
      "text/plain": [
       "⎡                         2                   ⎤\n",
       "⎢               cos(x)⋅cos (y)                ⎥\n",
       "⎢                                             ⎥\n",
       "⎢                         2                   ⎥\n",
       "⎢               sin(x)⋅cos (y)                ⎥\n",
       "⎢                                             ⎥\n",
       "⎢   2                              2          ⎥\n",
       "⎣sin (x)⋅sin(y)⋅cos(y) + sin(y)⋅cos (x)⋅cos(y)⎦"
      ]
     },
     "metadata": {},
     "output_type": "display_data"
    },
    {
     "name": "stdout",
     "output_type": "stream",
     "text": [
      "-6.071858474273577e-18\n"
     ]
    }
   ],
   "source": [
    "sym.init_printing()\n",
    "\n",
    "U1 = a.diff(x)\n",
    "U2 = a.diff(y)\n",
    "display(a)\n",
    "display(A)\n",
    "display(U1)\n",
    "display(U2)\n",
    "Cr = a.diff(x).cross(a.diff(y))\n",
    "display(Cr)\n",
    "AdS = U1.cross(U2).dot(A)\n",
    "from scipy import integrate\n",
    "import numpy as np\n",
    "\n",
    "def f(a, b):\n",
    "    return AdS.evalf(subs={x: a, y: b})\n",
    "\n",
    "val1, _ = integrate.dblquad(f, u[0], u[1], v[0], v[1])\n",
    "print(val1)"
   ]
  },
  {
   "cell_type": "code",
   "execution_count": 8,
   "id": "30b4a3e9",
   "metadata": {},
   "outputs": [
    {
     "name": "stdout",
     "output_type": "stream",
     "text": [
      "-0.05544047285622532\n"
     ]
    }
   ],
   "source": [
    "#!pip install scipy\n"
   ]
  },
  {
   "cell_type": "code",
   "execution_count": null,
   "id": "6719fb2a",
   "metadata": {},
   "outputs": [],
   "source": []
  }
 ],
 "metadata": {
  "kernelspec": {
   "display_name": "Python 3 (ipykernel)",
   "language": "python",
   "name": "python3"
  },
  "language_info": {
   "codemirror_mode": {
    "name": "ipython",
    "version": 3
   },
   "file_extension": ".py",
   "mimetype": "text/x-python",
   "name": "python",
   "nbconvert_exporter": "python",
   "pygments_lexer": "ipython3",
   "version": "3.9.4"
  }
 },
 "nbformat": 4,
 "nbformat_minor": 5
}
